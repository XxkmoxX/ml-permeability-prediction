{
 "cells": [
  {
   "cell_type": "code",
   "execution_count": null,
   "metadata": {},
   "outputs": [
    {
     "ename": "",
     "evalue": "",
     "output_type": "error",
     "traceback": [
      "\u001b[1;31mRunning cells with 'Python 3.12.3' requires the ipykernel package.\n",
      "\u001b[1;31mRun the following command to install 'ipykernel' into the Python environment. \n",
      "\u001b[1;31mCommand: '/bin/python3 -m pip install ipykernel -U --user --force-reinstall'"
     ]
    }
   ],
   "source": [
    "import os\n",
    "def rename_folders(path, start_number=35177):\n",
    "    folders = sorted([f for f in os.listdir(path) if os.path.isdir(os.path.join(path, f))], key=int)\n",
    "    new_name = f'{start_number + 1}'\n",
    "    os.rename(os.path.join(path, folders), os.path.join(path, new_name))\n",
    "    print(f'{folders} has been renamed to {new_name}')\n",
    "    start_number += 1\n",
    "    return start_number\n",
    "\n",
    "path = './home/cpicighelli/prueba/'"
   ]
  }
 ],
 "metadata": {
  "kernelspec": {
   "display_name": "Python 3",
   "language": "python",
   "name": "python3"
  },
  "language_info": {
   "name": "python",
   "version": "3.12.3"
  }
 },
 "nbformat": 4,
 "nbformat_minor": 2
}
